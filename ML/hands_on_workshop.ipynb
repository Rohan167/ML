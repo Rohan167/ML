{
 "cells": [
  {
   "cell_type": "code",
   "execution_count": 138,
   "metadata": {
    "collapsed": false
   },
   "outputs": [],
   "source": [
    "import math\n",
    "import numpy as np\n",
    "import pandas as pd\n",
    "from sklearn import datasets\n",
    "from matplotlib import pyplot as plt\n",
    "from sklearn.metrics import accuracy_score\n",
    "from sklearn.neighbors import KNeighborsClassifier\n",
    "from sklearn.model_selection import train_test_split\n",
    "# import scipy as sc"
   ]
  },
  {
   "cell_type": "code",
   "execution_count": 153,
   "metadata": {
    "collapsed": false
   },
   "outputs": [
    {
     "name": "stdout",
     "output_type": "stream",
     "text": [
      "Test set predictions are:  [2 1 2 2 1 0 1 0 0 1 0 2 0 2 2 0 0 0 1 0 2 2 2 0 1 1 1 0 0 1 2 2 0 0 1 2 2\n",
      " 1 1 2 1 1 0 2 1]\n"
     ]
    },
    {
     "data": {
      "text/plain": [
       "0.9555555555555556"
      ]
     },
     "execution_count": 153,
     "metadata": {},
     "output_type": "execute_result"
    }
   ],
   "source": [
    "# pd_ds = pd.read_csv(\"Iris.csv\" , index_col = 0)\n",
    "# pd_df = pd.DataFrame(pd_ds)\n",
    "\n",
    "# print(pd_df)\n",
    "# print(pd_df.describe())\n",
    "# sepal_ln_lst = np.array((pd_ds['SepalLengthCm']) , dtype = float)\n",
    "\n",
    "# sepal_wd_lst = np.array((pd_ds['SepalWidthCm']) , dtype = float)\n",
    "# petal_ln_lst = list(pd_ds['PetalLengthCm'])\n",
    "# petal_wd_lst = list(pd_ds['PetalWidthCm'])\n",
    "# petal_wd_lst = list(pd_ds['PetalWidthCm'])\n",
    "\n",
    "# pd_df.columns\n",
    "# pd_df['Species'].value_counts()\n",
    "# pd_df['Species'].nunique()\n",
    "# print(pd_df.groupby(\"Species\")['SepalLengthCm'].apply(lambda x:x*x))\n",
    "# knn_ml = KNeighborsClassifier(n_neighbors=6)\n",
    "# pd_ds.drop('Id',axis=1 ,inplace=True)\n",
    "# y = pd_ds['Species']\n",
    "\n",
    "# x = [[3],[3],[5]]\n",
    "# y = [1,2,4]\n",
    "# knn_ml.fit(x,y)\n",
    "\n",
    "iris = datasets.load_iris()\n",
    "x = iris['data']\n",
    "y = iris['target']\n",
    "\n",
    "x_train , x_test , y_train , y_test = train_test_split(\n",
    "                                                    x,\n",
    "                                                    y,\n",
    "                                                    test_size=0.3,\n",
    "                                                    random_state = 21,\n",
    "                                                    stratify = y)\n",
    "\n",
    "knn = KNeighborsClassifier(n_neighbors=8)\n",
    "knn.fit(x_train , y_train)\n",
    "\n",
    "y_pred = knn.predict(x_test)\n",
    "print(\"Test set predictions are: \", y_pred)\n",
    "\n",
    "accuracy_score(y_test , y_pred)"
   ]
  },
  {
   "cell_type": "code",
   "execution_count": 134,
   "metadata": {
    "collapsed": false
   },
   "outputs": [],
   "source": [
    "\n",
    "\n"
   ]
  },
  {
   "cell_type": "code",
   "execution_count": null,
   "metadata": {
    "collapsed": true
   },
   "outputs": [],
   "source": []
  },
  {
   "cell_type": "code",
   "execution_count": null,
   "metadata": {
    "collapsed": true
   },
   "outputs": [],
   "source": []
  }
 ],
 "metadata": {
  "kernelspec": {
   "display_name": "Python 3",
   "language": "python",
   "name": "python3"
  },
  "language_info": {
   "codemirror_mode": {
    "name": "ipython",
    "version": 3
   },
   "file_extension": ".py",
   "mimetype": "text/x-python",
   "name": "python",
   "nbconvert_exporter": "python",
   "pygments_lexer": "ipython3",
   "version": "3.4.5"
  }
 },
 "nbformat": 4,
 "nbformat_minor": 2
}
